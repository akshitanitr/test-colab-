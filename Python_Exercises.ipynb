{
  "nbformat": 4,
  "nbformat_minor": 0,
  "metadata": {
    "colab": {
      "name": "Python Exercises.ipynb",
      "provenance": [],
      "authorship_tag": "ABX9TyNs/OwWX6WPoesLxP5TxPtF",
      "include_colab_link": true
    },
    "kernelspec": {
      "name": "python3",
      "display_name": "Python 3"
    },
    "language_info": {
      "name": "python"
    }
  },
  "cells": [
    {
      "cell_type": "markdown",
      "metadata": {
        "id": "view-in-github",
        "colab_type": "text"
      },
      "source": [
        "<a href=\"https://colab.research.google.com/github/akshitanitr/test-colab-/blob/main/Python_Exercises.ipynb\" target=\"_parent\"><img src=\"https://colab.research.google.com/assets/colab-badge.svg\" alt=\"Open In Colab\"/></a>"
      ]
    },
    {
      "cell_type": "code",
      "execution_count": null,
      "metadata": {
        "colab": {
          "base_uri": "https://localhost:8080/"
        },
        "id": "jJkv4CMmlwXh",
        "outputId": "a182cfc2-eeb0-45a9-9867-cc713d426c84"
      },
      "outputs": [
        {
          "output_type": "stream",
          "name": "stdout",
          "text": [
            "Hello World\n"
          ]
        }
      ],
      "source": [
        "print(\"Hello World\")\n"
      ]
    },
    {
      "cell_type": "code",
      "source": [
        "print(\"Akshita Sahu\")"
      ],
      "metadata": {
        "colab": {
          "base_uri": "https://localhost:8080/"
        },
        "id": "GiVJNrFso-7d",
        "outputId": "2b73a5b4-a592-4384-91c2-46a4ff547e58"
      },
      "execution_count": null,
      "outputs": [
        {
          "output_type": "stream",
          "name": "stdout",
          "text": [
            "Akshita Sahu\n"
          ]
        }
      ]
    },
    {
      "cell_type": "code",
      "source": [
        "print(\"Learn Python!\")"
      ],
      "metadata": {
        "colab": {
          "base_uri": "https://localhost:8080/"
        },
        "id": "iIvmC7cYqNrm",
        "outputId": "fbc0873e-af8e-45b9-fe76-23739f1700b5"
      },
      "execution_count": null,
      "outputs": [
        {
          "output_type": "stream",
          "name": "stdout",
          "text": [
            "Learn Python!\n"
          ]
        }
      ]
    },
    {
      "cell_type": "code",
      "source": [
        "age = 20 \n",
        "print(f\"I am {age} years old.\")"
      ],
      "metadata": {
        "colab": {
          "base_uri": "https://localhost:8080/"
        },
        "id": "nkez209WqYqL",
        "outputId": "2ba796a5-8948-44d6-cc97-dc323947dd30"
      },
      "execution_count": null,
      "outputs": [
        {
          "output_type": "stream",
          "name": "stdout",
          "text": [
            "I am 20 years old.\n"
          ]
        }
      ]
    },
    {
      "cell_type": "code",
      "source": [
        "a = \"Python\"\n",
        "b = \"3.8\"\n",
        "print(f\"I am learning {a} version {b}.\")"
      ],
      "metadata": {
        "colab": {
          "base_uri": "https://localhost:8080/"
        },
        "id": "_ginBatAq6hY",
        "outputId": "7111f0c7-4b93-4643-e6bf-7e4e0e4e6ae9"
      },
      "execution_count": null,
      "outputs": [
        {
          "output_type": "stream",
          "name": "stdout",
          "text": [
            "I am learning Python version 3.8.\n"
          ]
        }
      ]
    },
    {
      "cell_type": "code",
      "source": [
        "price = 34.99\n",
        "weight = 20\n",
        "print(f\"Price: ${price}. Weight: {weight}lbs.\")"
      ],
      "metadata": {
        "colab": {
          "base_uri": "https://localhost:8080/"
        },
        "id": "VnlD9R4htYZU",
        "outputId": "25e0829a-c00e-41e4-9589-78975f7cca4a"
      },
      "execution_count": null,
      "outputs": [
        {
          "output_type": "stream",
          "name": "stdout",
          "text": [
            "Price: $34.99. Weight: 20lbs.\n"
          ]
        }
      ]
    },
    {
      "cell_type": "code",
      "source": [
        "pi = 3.1415926\n",
        "print(f\"Pi: {pi:.2f}\")\n"
      ],
      "metadata": {
        "colab": {
          "base_uri": "https://localhost:8080/"
        },
        "id": "iwhs7RZhvPPj",
        "outputId": "e11742b4-6831-48e1-b362-d60b45911ee7"
      },
      "execution_count": null,
      "outputs": [
        {
          "output_type": "stream",
          "name": "stdout",
          "text": [
            "Pi: 3.14\n"
          ]
        }
      ]
    },
    {
      "cell_type": "code",
      "source": [
        "print(\"-\"*40)\n",
        "print(\"Version: 1.0.1\")\n",
        "print(\"-\"*40)"
      ],
      "metadata": {
        "colab": {
          "base_uri": "https://localhost:8080/"
        },
        "id": "Nyfr2-AkwfuJ",
        "outputId": "ce4da781-4d0e-43e6-e01b-677b9b832d43"
      },
      "execution_count": null,
      "outputs": [
        {
          "output_type": "stream",
          "name": "stdout",
          "text": [
            "----------------------------------------\n",
            "Version: 1.0.1\n",
            "----------------------------------------\n"
          ]
        }
      ]
    },
    {
      "cell_type": "code",
      "source": [
        "print(\"=\" * 40)\n",
        "print(\"author: johnsmithsample.com\")\n",
        "print(\"date: 01-01-2021\")\n",
        "print(\"=\" * 40)"
      ],
      "metadata": {
        "colab": {
          "base_uri": "https://localhost:8080/"
        },
        "id": "3yM8WuNJxNRw",
        "outputId": "6ab59c4a-8a65-413b-fd53-2e66667bd5b7"
      },
      "execution_count": null,
      "outputs": [
        {
          "output_type": "stream",
          "name": "stdout",
          "text": [
            "========================================\n",
            "author: johnsmithsample.com\n",
            "date: 01-01-2021\n",
            "========================================\n"
          ]
        }
      ]
    },
    {
      "cell_type": "code",
      "source": [
        "print('summer', 'time', 'holiday', sep = '#')"
      ],
      "metadata": {
        "colab": {
          "base_uri": "https://localhost:8080/"
        },
        "id": "aDDeoYPzyYIY",
        "outputId": "c2d824a0-2bbb-4e46-8da8-25c41262a569"
      },
      "execution_count": null,
      "outputs": [
        {
          "output_type": "stream",
          "name": "stdout",
          "text": [
            "summer#time#holiday\n"
          ]
        }
      ]
    },
    {
      "cell_type": "code",
      "source": [
        "pi = 3.14\n",
        "r = 5\n",
        "area = pi*r*r\n",
        "print(f\"Area: {area}\")"
      ],
      "metadata": {
        "colab": {
          "base_uri": "https://localhost:8080/"
        },
        "id": "8ACH_cJvzamO",
        "outputId": "296e7852-6ebf-4ed6-fc31-360d491a2128"
      },
      "execution_count": null,
      "outputs": [
        {
          "output_type": "stream",
          "name": "stdout",
          "text": [
            "Area: 78.5\n"
          ]
        }
      ]
    },
    {
      "cell_type": "code",
      "source": [
        "principal = 1000\n",
        "interest = 0.03\n",
        "n = 1\n",
        "t = 5\n",
        "fv = principal*(1+(interest/n))**(n*t)\n",
        "print(f'The future value of the investment: {fv:.2f} USD.')"
      ],
      "metadata": {
        "colab": {
          "base_uri": "https://localhost:8080/"
        },
        "id": "53Y78obN-teL",
        "outputId": "bec59869-16bb-4078-e319-f2d24340eb9a"
      },
      "execution_count": 10,
      "outputs": [
        {
          "output_type": "stream",
          "name": "stdout",
          "text": [
            "The future value of the investment: 1159.27 USD.\n"
          ]
        }
      ]
    },
    {
      "cell_type": "code",
      "source": [
        "pv = 1000\n",
        "r = 0.03\n",
        "n = 5\n",
        "fv = pv * (1 + r) ** n\n",
        "print(f'The future value of the investment: {fv:.2f} USD')"
      ],
      "metadata": {
        "colab": {
          "base_uri": "https://localhost:8080/"
        },
        "id": "LoQKH3a5DnMT",
        "outputId": "89ed10fb-6e8b-4040-e644-a0478648c050"
      },
      "execution_count": 8,
      "outputs": [
        {
          "output_type": "stream",
          "name": "stdout",
          "text": [
            "The future value of the investment: 1159.27 USD\n"
          ]
        }
      ]
    },
    {
      "cell_type": "code",
      "source": [
        "a = 3\n",
        "b = -4\n",
        "c = 1\n",
        "D = ((b ** 2) - 4 * a * c )\n",
        "print(f'Delta: {D}')"
      ],
      "metadata": {
        "colab": {
          "base_uri": "https://localhost:8080/"
        },
        "id": "qEgB0lD1xNa5",
        "outputId": "8bdce942-e631-4e1f-ec89-b0065409ba56"
      },
      "execution_count": 11,
      "outputs": [
        {
          "output_type": "stream",
          "name": "stdout",
          "text": [
            "Delta: 4\n"
          ]
        }
      ]
    },
    {
      "cell_type": "code",
      "source": [
        "n = 10\n",
        "sum = 10*n + 4*(n*(n+1)/2)\n",
        "print(f\"The sum of first 10 elements in a sequence: {sum}\")\n"
      ],
      "metadata": {
        "colab": {
          "base_uri": "https://localhost:8080/"
        },
        "id": "DQNpFrC3yChw",
        "outputId": "4e696c3e-ed2f-49d1-8bc5-e18e0819e4f4"
      },
      "execution_count": 13,
      "outputs": [
        {
          "output_type": "stream",
          "name": "stdout",
          "text": [
            "The sum of first 10 elements in a sequence: 320.0\n"
          ]
        }
      ]
    },
    {
      "cell_type": "code",
      "source": [
        "a = 8 \n",
        "r = 2\n",
        "n = 6\n",
        "sum = (a * ((r ** n) - 1))/(r - 1) \n",
        "print(f\"The sum of first six elements of the sequence is: {sum}\")\n",
        "\n"
      ],
      "metadata": {
        "colab": {
          "base_uri": "https://localhost:8080/"
        },
        "id": "Hskf4zfCywy2",
        "outputId": "c5d8b976-979c-4101-a5c0-9b97f454a7d1"
      },
      "execution_count": 15,
      "outputs": [
        {
          "output_type": "stream",
          "name": "stdout",
          "text": [
            "The sum of first six elements of the sequence is: 504.0\n"
          ]
        }
      ]
    },
    {
      "cell_type": "code",
      "source": [
        "a = 1\n",
        "b = 5\n",
        "c = 4\n",
        "sum = -b/a\n",
        "product = c/a\n",
        "print(f\"x1 + x2 = {sum:.1f}\")\n",
        "print(f\"x1x2 = {product:.1f}\")\n"
      ],
      "metadata": {
        "colab": {
          "base_uri": "https://localhost:8080/"
        },
        "id": "g3msCn680JUY",
        "outputId": "f72e8d8c-100e-4710-c454-834291890836"
      },
      "execution_count": 16,
      "outputs": [
        {
          "output_type": "stream",
          "name": "stdout",
          "text": [
            "x1 + x2 = -5.0\n",
            "x1x2 = 4.0\n"
          ]
        }
      ]
    },
    {
      "cell_type": "code",
      "source": [
        "a1 = 2\n",
        "b1 = 4\n",
        "a2 = -4\n",
        "b2 = 6\n",
        "sum1 = (a1 + a2)/2\n",
        "sum2 = (b1 + b2)/2\n",
        "print(f\"The middle point: ({sum1:.1f}, {sum2:.1f})\")"
      ],
      "metadata": {
        "colab": {
          "base_uri": "https://localhost:8080/"
        },
        "id": "NkY4E2rE1SA5",
        "outputId": "fce8bd8f-3416-4473-f995-6cccf210fdcb"
      },
      "execution_count": 17,
      "outputs": [
        {
          "output_type": "stream",
          "name": "stdout",
          "text": [
            "The middle point: (-1.0, 5.0)\n"
          ]
        }
      ]
    },
    {
      "cell_type": "code",
      "source": [
        "a1 = 3\n",
        "b1 = 2\n",
        "a2 = -1\n",
        "b2 = -1\n",
        "diff1 = a1 - a2\n",
        "diff2 = b1 - b2\n",
        "distance = (diff1**2 + diff2**2) ** (1/2)\n",
        "print(f\"The distance between points A and B: {distance:.1f}\")"
      ],
      "metadata": {
        "colab": {
          "base_uri": "https://localhost:8080/"
        },
        "id": "EVs6Uujl2LjQ",
        "outputId": "72e3f046-3d31-4580-b0e2-0c47b454bc0e"
      },
      "execution_count": 23,
      "outputs": [
        {
          "output_type": "stream",
          "name": "stdout",
          "text": [
            "The distance between points A and B: 5.0\n"
          ]
        }
      ]
    },
    {
      "cell_type": "code",
      "source": [
        "a = 1\n",
        "b = 5\n",
        "c = 4\n",
        "r1 = (-b + (b**2 - 4*a*c) ** (1/2))/(2*a)\n",
        "r2 = (-b - (b**2 - 4*a*c) ** (1/2))/(2*a)\n",
        "print(f\"x1 = {r2:.1f}\")\n",
        "print(f\"x2 = {r1:.1f}\")\n",
        "\n"
      ],
      "metadata": {
        "colab": {
          "base_uri": "https://localhost:8080/"
        },
        "id": "8lzg4tVG3iUx",
        "outputId": "b30bc961-3711-4c29-aec5-ba84f4b684e0"
      },
      "execution_count": 26,
      "outputs": [
        {
          "output_type": "stream",
          "name": "stdout",
          "text": [
            "x1 = -4.0\n",
            "x2 = -1.0\n"
          ]
        }
      ]
    },
    {
      "cell_type": "code",
      "source": [
        "a = 4\n",
        "b = 3\n",
        "c = 4.5\n",
        "d = 5\n",
        "n = 4\n",
        "Gmean = (a*b*c*d)**(1/n)\n",
        "print(f\"Geometric average of the given numbers: {Gmean:.2f}\")"
      ],
      "metadata": {
        "colab": {
          "base_uri": "https://localhost:8080/"
        },
        "id": "bFNAa8714o3z",
        "outputId": "b66dbf2e-9371-41a8-c27a-1f576487eca1"
      },
      "execution_count": 29,
      "outputs": [
        {
          "output_type": "stream",
          "name": "stdout",
          "text": [
            "Geometric average of the given numbers: 4.05\n"
          ]
        }
      ]
    },
    {
      "cell_type": "code",
      "source": [
        "a1 = 1\n",
        "a2 = 1/2\n",
        "r = a2/a1\n",
        "sum = a1/(1-r)\n",
        "print(f\"The sum of the sequence: {sum:.1f}\")"
      ],
      "metadata": {
        "colab": {
          "base_uri": "https://localhost:8080/"
        },
        "id": "DGeg1WWLBHAk",
        "outputId": "1e935443-8e11-4598-f356-89854f6182e8"
      },
      "execution_count": 31,
      "outputs": [
        {
          "output_type": "stream",
          "name": "stdout",
          "text": [
            "The sum of the sequence: 2.0\n"
          ]
        }
      ]
    },
    {
      "cell_type": "code",
      "source": [
        "a1 = 10\n",
        "a2 = 11\n",
        "a3 = 9\n",
        "n = 3\n",
        "avg = (a1 + a2 + a3)/n\n",
        "sqsum = (a1 - avg)**2 + (a2 - avg)**2 + (a3 - avg)**2\n",
        "SD = (sqsum/n) ** (1/2)\n",
        "print(f\"The standard deviation: {SD:.2f}\")"
      ],
      "metadata": {
        "colab": {
          "base_uri": "https://localhost:8080/"
        },
        "id": "sxRNMXkNDeJu",
        "outputId": "aa06106b-fbb4-4893-8df9-af30f21ae733"
      },
      "execution_count": 33,
      "outputs": [
        {
          "output_type": "stream",
          "name": "stdout",
          "text": [
            "The standard deviation: 0.82\n"
          ]
        }
      ]
    },
    {
      "cell_type": "code",
      "source": [
        "filename = \"view.jpg\"\n",
        "print(filename[-3:])"
      ],
      "metadata": {
        "colab": {
          "base_uri": "https://localhost:8080/"
        },
        "id": "Qy1XLxmZEmQp",
        "outputId": "7be57655-fff2-44c5-a9bb-71dd86584f53"
      },
      "execution_count": 35,
      "outputs": [
        {
          "output_type": "stream",
          "name": "stdout",
          "text": [
            "jpg\n"
          ]
        }
      ]
    },
    {
      "cell_type": "code",
      "source": [
        "string = \"PKV-89415-PLN\"\n",
        "print(string[:3] + string[10:])\n"
      ],
      "metadata": {
        "colab": {
          "base_uri": "https://localhost:8080/"
        },
        "id": "dVua6DctGThm",
        "outputId": "ee1161eb-9b27-4c0f-fbe3-4fb1c8e888fd"
      },
      "execution_count": 37,
      "outputs": [
        {
          "output_type": "stream",
          "name": "stdout",
          "text": [
            "PKVPLN\n"
          ]
        }
      ]
    },
    {
      "cell_type": "code",
      "source": [
        "string = '1 0 0 1 0 1'\n",
        "string1 = string.replace(' ', '')\n",
        "number = int(string1, 2)\n",
        "print(f'Number found: {number}')\n"
      ],
      "metadata": {
        "colab": {
          "base_uri": "https://localhost:8080/"
        },
        "id": "0Tan3pF7Hz4r",
        "outputId": "d92d4c59-a6d0-4e6e-bc68-156dcdf3c9cd"
      },
      "execution_count": 43,
      "outputs": [
        {
          "output_type": "stream",
          "name": "stdout",
          "text": [
            "Number found: 37\n"
          ]
        }
      ]
    },
    {
      "cell_type": "code",
      "source": [
        "text = 'Python Course'\n",
        "text1 = text[::-1]\n",
        "print(text1)"
      ],
      "metadata": {
        "colab": {
          "base_uri": "https://localhost:8080/"
        },
        "id": "vz-ijL3oMywQ",
        "outputId": "6ca97909-7c38-401f-ce37-a93e98683639"
      },
      "execution_count": 44,
      "outputs": [
        {
          "output_type": "stream",
          "name": "stdout",
          "text": [
            "esruoC nohtyP\n"
          ]
        }
      ]
    },
    {
      "cell_type": "code",
      "source": [
        ""
      ],
      "metadata": {
        "id": "QRuj9X0dNJoy"
      },
      "execution_count": null,
      "outputs": []
    }
  ]
}